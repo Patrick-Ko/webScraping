{
 "cells": [
  {
   "cell_type": "code",
   "id": "initial_id",
   "metadata": {
    "collapsed": true,
    "ExecuteTime": {
     "end_time": "2024-07-02T20:31:12.050506Z",
     "start_time": "2024-07-02T20:31:11.933990Z"
    }
   },
   "source": [
    "# import relevant libraries\n",
    "import requests\n",
    "from bs4 import BeautifulSoup"
   ],
   "outputs": [],
   "execution_count": 2
  },
  {
   "metadata": {
    "ExecuteTime": {
     "end_time": "2024-07-02T20:43:47.638381Z",
     "start_time": "2024-07-02T20:43:47.635703Z"
    }
   },
   "cell_type": "code",
   "source": [
    "def scrape_page(page_url):\n",
    "    # fetch the webpage content\n",
    "    response = requests.get(page_url)\n",
    "    # Check if the request was successful\n",
    "    if response.status_code != 200:\n",
    "        print(f\"Failed to retrieve the webpage. Status code: {response.status_code}\")\n",
    "        return None\n",
    "    # Parse the HTML content\n",
    "    soup = BeautifulSoup(response.content, 'html.parser')\n",
    "    # Find all the span elements with class 'text-warning'\n",
    "    spans = soup.find_all('span', class_='text-warning')\n",
    "    # Extract the text from each span element\n",
    "    venue_info = [span.text.strip() for span in spans]\n",
    "    return venue_info"
   ],
   "id": "ef17aef12279287a",
   "outputs": [],
   "execution_count": 7
  },
  {
   "metadata": {
    "ExecuteTime": {
     "end_time": "2024-07-02T20:44:10.344348Z",
     "start_time": "2024-07-02T20:43:51.213297Z"
    }
   },
   "cell_type": "code",
   "source": [
    "url = \"https://sts.ug.edu.gh/timetable/thedate/2024-04-03\"\n",
    "venueInfo = scrape_page(url)"
   ],
   "id": "cd2cf48016dc9aa3",
   "outputs": [],
   "execution_count": 8
  },
  {
   "metadata": {
    "ExecuteTime": {
     "end_time": "2024-07-02T20:49:53.463850Z",
     "start_time": "2024-07-02T20:49:53.461735Z"
    }
   },
   "cell_type": "code",
   "source": [
    "if venueInfo:\n",
    "    for info in venueInfo:\n",
    "        print(info)"
   ],
   "id": "96fdba9f458227d",
   "outputs": [
    {
     "name": "stdout",
     "output_type": "stream",
     "text": [
      "MAIN-CAMPUS\n",
      "UGCS Lab 3 - Main, UGCS Lab 4A, UGCS Lab 4B, Balme-Knowledge Commons, Balme- IAC Training Lab, UGBS GRADUATE SCHOOL LAB - Opposite PRESEC, School of Engineering Lab, Dept. of Information Studies - Lab 1, Dept. of Information Studies - Lab 2, J. R. A  ICT Centre Next to  Kofi Dra Conf. Centre (Behind Psycology Department), School of Nursing, COE-SCDE LAB, Communications Studies Lab - Opposite JQB, Akuafo Hall Lab,\n",
      "MAIN-CAMPUS\n",
      "UGCS Lab 3 - Main, UGCS Lab 4A, Balme-Knowledge Commons, Balme- IAC Training Lab, UGBS GRADUATE SCHOOL LAB - Opposite PRESEC, School of Engineering Lab, Dept. of Information Studies - Lab 1, Dept. of Information Studies - Lab 2, J. R. A  ICT Centre Next to  Kofi Dra Conf. Centre (Behind Psyc. Dept), School of Nursing, COE-SCDE LAB, Communications Studies Lab - Opposite JQB, Akuafo Hall Lab,\n",
      "MAIN-CAMPUS\n",
      "UGCS Lab 4B,\n",
      "MAIN-CAMPUS\n",
      "UGCS Lab 3 - Main, UGCS Lab 4A, UGCS Lab 4B, Balme-Knowledge Commons, Balme- IAC Training Lab, UGBS GRADUATE SCHOOL LAB - Opposite PRESEC, School of Engineering Lab, Dept. of Information Studies - Lab 1, Dept. of Information Studies - Lab 2, J. R. A  ICT Centre Next to  Kofi Dra Conf. Centre (Behind Psyc. Dept), School of Nursing, COE-SCDE LAB, Communications Studies Lab - Opposite JQB, Akuafo Hall Lab,\n",
      "MAIN-CAMPUS\n",
      "UGCS Lab 3 - Main, UGCS Lab 4A, UGCS Lab 4B, Balme-Knowledge Commons, Balme- IAC Training Lab, UGBS GRADUATE SCHOOL LAB - Opposite PRESEC, School of Engineering Lab, Dept. of Information Studies - Lab 1, Dept. of Information Studies - Lab 2, J. R. A  ICT Centre Next to  Kofi Dra Conf. Centre (Behind Psyc. Dept), School of Nursing, COE-SCDE LAB, Communications Studies Lab - Opposite JQB, Akuafo Hall Lab,\n",
      "MAIN-CAMPUS\n",
      "UGCS Lab 3 - Main, UGCS Lab 4A, UGCS Lab 4B, Balme-Knowledge Commons, Balme- IAC Training Lab, UGBS GRADUATE SCHOOL LAB - Opposite PRESEC, School of Engineering Lab, Dept. of Information Studies - Lab 1, Dept. of Information Studies - Lab 2, J. R. A  ICT Centre Next to  Kofi Drah Conf. Centre (Behind Psyc. Dept), School of Nursing, COE-SCDE LAB, Communications Studies Lab - Opposite JQB, Akuafo Hall Lab,\n",
      "MAIN-CAMPUS\n",
      "UGCS Lab 3 - Main, UGCS Lab 4A, UGCS Lab 4B, Balme-Knowledge Commons, Balme- IAC Training Lab, UGBS GRADUATE SCHOOL LAB - Opposite PRESEC, School of Engineering Lab, Dept. of Information Studies Lab 1, Dept. of Information Studies - Lab 2, J. R. A  ICT Centre Next to  Kofi Drah Conf. Centre (Behind Psyc. Dept), School of Nursing, COE-SCDE LAB, Communications Studies Lab - Opposite JQB, Akuafo Hall Lab,\n",
      "MAIN-CAMPUS\n",
      "UGCS Lab 3 - Main, UGCS Lab 4A, UGCS Lab 4B, Balme-Knowledge Commons, Balme- IAC Training Lab, UGBS GRADUATE SCHOOL LAB - Opposite PRESEC, School of Engineering Lab, Dept. of Information Studies - Lab 1, Dept. of Information Studies - Lab 2, J. R. A  ICT Centre Next to  Kofi Dra Conf. Centre (Behind Psyc. Dept), School of Nursing, COE-SCDE LAB, Communications Studies Lab - Opposite JQB, Akuafo Hall Lab,\n"
     ]
    }
   ],
   "execution_count": 14
  },
  {
   "metadata": {},
   "cell_type": "code",
   "outputs": [],
   "execution_count": null,
   "source": "",
   "id": "146ac28ef328c8dc"
  }
 ],
 "metadata": {
  "kernelspec": {
   "display_name": "Python 3",
   "language": "python",
   "name": "python3"
  },
  "language_info": {
   "codemirror_mode": {
    "name": "ipython",
    "version": 2
   },
   "file_extension": ".py",
   "mimetype": "text/x-python",
   "name": "python",
   "nbconvert_exporter": "python",
   "pygments_lexer": "ipython2",
   "version": "2.7.6"
  }
 },
 "nbformat": 4,
 "nbformat_minor": 5
}
