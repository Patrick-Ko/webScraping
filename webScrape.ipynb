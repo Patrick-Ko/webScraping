{
 "cells": [
  {
   "cell_type": "code",
   "id": "initial_id",
   "metadata": {
    "collapsed": true,
    "ExecuteTime": {
     "end_time": "2024-07-03T11:50:19.046396Z",
     "start_time": "2024-07-03T11:50:18.811039Z"
    }
   },
   "source": [
    "# import relevant libraries\n",
    "import requests\n",
    "from bs4 import BeautifulSoup\n",
    "from datetime import datetime, timedelta\n",
    "import pandas as pd\n"
   ],
   "outputs": [],
   "execution_count": 11
  },
  {
   "metadata": {
    "ExecuteTime": {
     "end_time": "2024-07-03T11:32:51.454411Z",
     "start_time": "2024-07-03T11:32:51.451175Z"
    }
   },
   "cell_type": "code",
   "source": [
    "def scrape_page(page_url):\n",
    "    # fetch the webpage content\n",
    "    response = requests.get(page_url)\n",
    "    # Check if the request was successful\n",
    "    if response.status_code != 200:\n",
    "        print(f\"Failed to retrieve the webpage. Status code: {response.status_code}\")\n",
    "        return None\n",
    "    # Parse the HTML content\n",
    "    soup = BeautifulSoup(response.content, 'html.parser')\n",
    "    # Find all the span elements with class 'text-warning'\n",
    "    spans = soup.find_all('span', class_='text-warning')\n",
    "    # Extract the text from each span element\n",
    "    venue_info = [span.text.strip() for span in spans]\n",
    "    return venue_info"
   ],
   "id": "ef17aef12279287a",
   "outputs": [],
   "execution_count": 3
  },
  {
   "metadata": {
    "ExecuteTime": {
     "end_time": "2024-07-03T11:32:51.651945Z",
     "start_time": "2024-07-03T11:32:51.455110Z"
    }
   },
   "cell_type": "code",
   "source": [
    "# scraping a single page\n",
    "url = \"https://sts.ug.edu.gh/timetable/thedate/2024-04-03\"\n",
    "venueInfo = scrape_page(url)"
   ],
   "id": "cd2cf48016dc9aa3",
   "outputs": [],
   "execution_count": 4
  },
  {
   "metadata": {
    "ExecuteTime": {
     "end_time": "2024-07-03T11:32:51.655306Z",
     "start_time": "2024-07-03T11:32:51.653202Z"
    }
   },
   "cell_type": "code",
   "source": [
    "if venueInfo:\n",
    "    for info in venueInfo:\n",
    "        print(info)"
   ],
   "id": "96fdba9f458227d",
   "outputs": [
    {
     "name": "stdout",
     "output_type": "stream",
     "text": [
      "MAIN-CAMPUS\n",
      "UGCS Lab 3 - Main, UGCS Lab 4A, UGCS Lab 4B, Balme-Knowledge Commons, Balme- IAC Training Lab, UGBS GRADUATE SCHOOL LAB - Opposite PRESEC, School of Engineering Lab, Dept. of Information Studies - Lab 1, Dept. of Information Studies - Lab 2, J. R. A  ICT Centre Next to  Kofi Dra Conf. Centre (Behind Psycology Department), School of Nursing, COE-SCDE LAB, Communications Studies Lab - Opposite JQB, Akuafo Hall Lab,\n",
      "MAIN-CAMPUS\n",
      "UGCS Lab 3 - Main, UGCS Lab 4A, Balme-Knowledge Commons, Balme- IAC Training Lab, UGBS GRADUATE SCHOOL LAB - Opposite PRESEC, School of Engineering Lab, Dept. of Information Studies - Lab 1, Dept. of Information Studies - Lab 2, J. R. A  ICT Centre Next to  Kofi Dra Conf. Centre (Behind Psyc. Dept), School of Nursing, COE-SCDE LAB, Communications Studies Lab - Opposite JQB, Akuafo Hall Lab,\n",
      "MAIN-CAMPUS\n",
      "UGCS Lab 4B,\n",
      "MAIN-CAMPUS\n",
      "UGCS Lab 3 - Main, UGCS Lab 4A, UGCS Lab 4B, Balme-Knowledge Commons, Balme- IAC Training Lab, UGBS GRADUATE SCHOOL LAB - Opposite PRESEC, School of Engineering Lab, Dept. of Information Studies - Lab 1, Dept. of Information Studies - Lab 2, J. R. A  ICT Centre Next to  Kofi Dra Conf. Centre (Behind Psyc. Dept), School of Nursing, COE-SCDE LAB, Communications Studies Lab - Opposite JQB, Akuafo Hall Lab,\n",
      "MAIN-CAMPUS\n",
      "UGCS Lab 3 - Main, UGCS Lab 4A, UGCS Lab 4B, Balme-Knowledge Commons, Balme- IAC Training Lab, UGBS GRADUATE SCHOOL LAB - Opposite PRESEC, School of Engineering Lab, Dept. of Information Studies - Lab 1, Dept. of Information Studies - Lab 2, J. R. A  ICT Centre Next to  Kofi Dra Conf. Centre (Behind Psyc. Dept), School of Nursing, COE-SCDE LAB, Communications Studies Lab - Opposite JQB, Akuafo Hall Lab,\n",
      "MAIN-CAMPUS\n",
      "UGCS Lab 3 - Main, UGCS Lab 4A, UGCS Lab 4B, Balme-Knowledge Commons, Balme- IAC Training Lab, UGBS GRADUATE SCHOOL LAB - Opposite PRESEC, School of Engineering Lab, Dept. of Information Studies - Lab 1, Dept. of Information Studies - Lab 2, J. R. A  ICT Centre Next to  Kofi Drah Conf. Centre (Behind Psyc. Dept), School of Nursing, COE-SCDE LAB, Communications Studies Lab - Opposite JQB, Akuafo Hall Lab,\n",
      "MAIN-CAMPUS\n",
      "UGCS Lab 3 - Main, UGCS Lab 4A, UGCS Lab 4B, Balme-Knowledge Commons, Balme- IAC Training Lab, UGBS GRADUATE SCHOOL LAB - Opposite PRESEC, School of Engineering Lab, Dept. of Information Studies Lab 1, Dept. of Information Studies - Lab 2, J. R. A  ICT Centre Next to  Kofi Drah Conf. Centre (Behind Psyc. Dept), School of Nursing, COE-SCDE LAB, Communications Studies Lab - Opposite JQB, Akuafo Hall Lab,\n",
      "MAIN-CAMPUS\n",
      "UGCS Lab 3 - Main, UGCS Lab 4A, UGCS Lab 4B, Balme-Knowledge Commons, Balme- IAC Training Lab, UGBS GRADUATE SCHOOL LAB - Opposite PRESEC, School of Engineering Lab, Dept. of Information Studies - Lab 1, Dept. of Information Studies - Lab 2, J. R. A  ICT Centre Next to  Kofi Dra Conf. Centre (Behind Psyc. Dept), School of Nursing, COE-SCDE LAB, Communications Studies Lab - Opposite JQB, Akuafo Hall Lab,\n"
     ]
    }
   ],
   "execution_count": 5
  },
  {
   "metadata": {
    "ExecuteTime": {
     "end_time": "2024-07-03T11:32:51.660609Z",
     "start_time": "2024-07-03T11:32:51.655987Z"
    }
   },
   "cell_type": "code",
   "source": [
    "# function for date range linked to page\n",
    "def generate_dates(start_date, end_date):\n",
    "    current_date = start_date\n",
    "    while current_date <= end_date:\n",
    "        yield current_date\n",
    "        current_date += timedelta(days=1)"
   ],
   "id": "146ac28ef328c8dc",
   "outputs": [],
   "execution_count": 6
  },
  {
   "metadata": {
    "ExecuteTime": {
     "end_time": "2024-07-03T11:32:54.632342Z",
     "start_time": "2024-07-03T11:32:51.661460Z"
    }
   },
   "cell_type": "code",
   "source": [
    "# scraping multiple pages using generate_dates()\n",
    "startDate = datetime(2024, 4, 3)\n",
    "endDate = datetime(2024, 4, 21)\n",
    "allVenues = set()\n",
    "\n",
    "for date in generate_dates(startDate, endDate):\n",
    "    formatted_date = date.strftime('%Y-%m-%d')\n",
    "    url = f\"https://sts.ug.edu.gh/timetable/thedate/{formatted_date}\"\n",
    "    print(f\"Scraping URL: {url}\")\n",
    "    venueInfo = scrape_page(url)\n",
    "    if venueInfo:\n",
    "        print(f\"Date: {formatted_date}\")\n",
    "        for info in venueInfo:\n",
    "            # Split the info string by commas and add to the set\n",
    "            venues = info.split(',')\n",
    "            for venue in venues:\n",
    "                cleaned_venue = venue.strip()  # Remove leading/trailing whitespace\n",
    "                if cleaned_venue:  \n",
    "                    allVenues.add(cleaned_venue)\n",
    "        print(\"\\n\")\n",
    "    else:\n",
    "        print(f\"No venue information found for Date: {formatted_date}\\n\")"
   ],
   "id": "ee164cd010d83b7b",
   "outputs": [
    {
     "name": "stdout",
     "output_type": "stream",
     "text": [
      "Scraping URL: https://sts.ug.edu.gh/timetable/thedate/2024-04-03\n",
      "Date: 2024-04-03\n",
      "\n",
      "\n",
      "Scraping URL: https://sts.ug.edu.gh/timetable/thedate/2024-04-04\n",
      "Date: 2024-04-04\n",
      "\n",
      "\n",
      "Scraping URL: https://sts.ug.edu.gh/timetable/thedate/2024-04-05\n",
      "Date: 2024-04-05\n",
      "\n",
      "\n",
      "Scraping URL: https://sts.ug.edu.gh/timetable/thedate/2024-04-06\n",
      "Date: 2024-04-06\n",
      "\n",
      "\n",
      "Scraping URL: https://sts.ug.edu.gh/timetable/thedate/2024-04-07\n",
      "Date: 2024-04-07\n",
      "\n",
      "\n",
      "Scraping URL: https://sts.ug.edu.gh/timetable/thedate/2024-04-08\n",
      "Date: 2024-04-08\n",
      "\n",
      "\n",
      "Scraping URL: https://sts.ug.edu.gh/timetable/thedate/2024-04-09\n",
      "Date: 2024-04-09\n",
      "\n",
      "\n",
      "Scraping URL: https://sts.ug.edu.gh/timetable/thedate/2024-04-10\n",
      "No venue information found for Date: 2024-04-10\n",
      "\n",
      "Scraping URL: https://sts.ug.edu.gh/timetable/thedate/2024-04-11\n",
      "No venue information found for Date: 2024-04-11\n",
      "\n",
      "Scraping URL: https://sts.ug.edu.gh/timetable/thedate/2024-04-12\n",
      "Date: 2024-04-12\n",
      "\n",
      "\n",
      "Scraping URL: https://sts.ug.edu.gh/timetable/thedate/2024-04-13\n",
      "Date: 2024-04-13\n",
      "\n",
      "\n",
      "Scraping URL: https://sts.ug.edu.gh/timetable/thedate/2024-04-14\n",
      "Date: 2024-04-14\n",
      "\n",
      "\n",
      "Scraping URL: https://sts.ug.edu.gh/timetable/thedate/2024-04-15\n",
      "Date: 2024-04-15\n",
      "\n",
      "\n",
      "Scraping URL: https://sts.ug.edu.gh/timetable/thedate/2024-04-16\n",
      "Date: 2024-04-16\n",
      "\n",
      "\n",
      "Scraping URL: https://sts.ug.edu.gh/timetable/thedate/2024-04-17\n",
      "Date: 2024-04-17\n",
      "\n",
      "\n",
      "Scraping URL: https://sts.ug.edu.gh/timetable/thedate/2024-04-18\n",
      "Date: 2024-04-18\n",
      "\n",
      "\n",
      "Scraping URL: https://sts.ug.edu.gh/timetable/thedate/2024-04-19\n",
      "Date: 2024-04-19\n",
      "\n",
      "\n",
      "Scraping URL: https://sts.ug.edu.gh/timetable/thedate/2024-04-20\n",
      "Date: 2024-04-20\n",
      "\n",
      "\n",
      "Scraping URL: https://sts.ug.edu.gh/timetable/thedate/2024-04-21\n",
      "Date: 2024-04-21\n",
      "\n",
      "\n"
     ]
    }
   ],
   "execution_count": 7
  },
  {
   "metadata": {
    "ExecuteTime": {
     "end_time": "2024-07-03T11:32:54.635638Z",
     "start_time": "2024-07-03T11:32:54.633629Z"
    }
   },
   "cell_type": "code",
   "source": [
    "print(\"Unique Venues:\")\n",
    "for venue in sorted(allVenues):\n",
    "    print(venue)"
   ],
   "id": "541b8893d3b8fb67",
   "outputs": [
    {
     "name": "stdout",
     "output_type": "stream",
     "text": [
      "Unique Venues:\n",
      "Akuafo Hall Computer Lab\n",
      "Akuafo Hall Lab\n",
      "BALME - IAC TRAINING LAB\n",
      "Balme- IAC Training Lab\n",
      "Balme-IAC Training Lab\n",
      "Balme-Knowledge Commons\n",
      "CENTRAL CAFETERIA\n",
      "CENTRL CAFETERIA\n",
      "COE-SCDE LAB\n",
      "CoE-SCDE Computer Lab\n",
      "Communications Studies Lab - Opposite JQB\n",
      "Dept. of Information Studies - Lab 1\n",
      "Dept. of Information Studies - Lab 2\n",
      "Dept. of Information Studies Lab 1\n",
      "GCB BLDG.\n",
      "GCB BUILDING\n",
      "J. R. A  ICT Centre Next to  Kofi Dra Conf. Centre (Behind Psyc. Dept)\n",
      "J. R. A  ICT Centre Next to  Kofi Dra Conf. Centre (Behind Psycology Department)\n",
      "J. R. A  ICT Centre Next to  Kofi Drah Conf. Centre (Behind Psyc. Dept)\n",
      "J.R.A ICT CENTER (NEXT TO KOFI DRA CONFRENCE CENTER - BEHIND DEPT OF PSYCH - AROUND N'BLOCK)\n",
      "J.R.A. ICT Centre Next to Kofi Drah Conference Centre (Behind Psychology Dept)\n",
      "JONES QUARTEY BLDG. (FIRST FLOOR)\n",
      "JONES QUARTEY BLDG. (GROUND FLOOR)\n",
      "JONES QUARTEY BUILDING      (FIRST FLOOR)\n",
      "JONES QUARTEY BUILDING      (GROUND FLOOR)\n",
      "JONES QUARTEY BUILDING     (GROUND FLOOR)\n",
      "JONES QUARTEY BUILDING    (GROUND FLOOR)\n",
      "JONES QUARTEY BUILDING   (FFIRST FLOOR)\n",
      "JONES QUARTEY BUILDING   (FIRST FLOOR)\n",
      "JONES QUARTEY BUILDING(FIRST FLOOR)\n",
      "JONES QUARTEY BUILDING(GROUND FLOOR)\n",
      "MAIN CAMPUS\n",
      "MAIN-CAMPUS\n",
      "MIAN CAMPUS\n",
      "N' BLOCK / K. FOLSON BLDG.\n",
      "N'BLOCK\n",
      "N'BLOCK/K. FOLSON BUILDING\n",
      "NEW N' BLOCK\n",
      "NEW N'BLOCK\n",
      "School of Engineering Lab\n",
      "School of Nursing\n",
      "UGBS GRADUATE SCHOOL LAB - Opposite PRESEC\n",
      "UGBS Graduate School Lab- Opposite PRESEC\n",
      "UGCS Computer Lab\n",
      "UGCS Lab 3 - Main\n",
      "UGCS Lab 4A\n",
      "UGCS Lab 4B\n"
     ]
    }
   ],
   "execution_count": 8
  },
  {
   "metadata": {
    "ExecuteTime": {
     "end_time": "2024-07-03T11:52:14.571660Z",
     "start_time": "2024-07-03T11:52:14.475667Z"
    }
   },
   "cell_type": "code",
   "source": [
    "uniqueVenues = sorted(allVenues)\n",
    "df = pd.DataFrame(uniqueVenues, columns=[\"Venue\"])\n",
    "df.to_excel(\"uniqueVenues.xlsx\", index=False)\n",
    "print(\"Unique venues have been saved to 'uniqueVenues.xlsx'\")"
   ],
   "id": "156f4b397232974a",
   "outputs": [
    {
     "name": "stdout",
     "output_type": "stream",
     "text": [
      "Unique venues have been saved to 'uniqueVenues.xlsx'\n"
     ]
    }
   ],
   "execution_count": 12
  }
 ],
 "metadata": {
  "kernelspec": {
   "display_name": "Python 3",
   "language": "python",
   "name": "python3"
  },
  "language_info": {
   "codemirror_mode": {
    "name": "ipython",
    "version": 2
   },
   "file_extension": ".py",
   "mimetype": "text/x-python",
   "name": "python",
   "nbconvert_exporter": "python",
   "pygments_lexer": "ipython2",
   "version": "2.7.6"
  }
 },
 "nbformat": 4,
 "nbformat_minor": 5
}
